{
 "cells": [
  {
   "cell_type": "code",
   "execution_count": 3,
   "id": "eae5d006",
   "metadata": {},
   "outputs": [],
   "source": [
    "from ortools.graph.python import min_cost_flow"
   ]
  },
  {
   "cell_type": "code",
   "execution_count": 4,
   "id": "246495ac",
   "metadata": {},
   "outputs": [],
   "source": [
    "smcf = min_cost_flow.SimpleMinCostFlow()"
   ]
  },
  {
   "cell_type": "code",
   "execution_count": 6,
   "id": "8ce6a195",
   "metadata": {},
   "outputs": [],
   "source": [
    "# Define the directed graph for the flow.\n",
    "team_a = [1, 3, 5]\n",
    "team_b = [2, 4, 6]\n",
    "\n",
    "start_nodes = (\n",
    "    # fmt: off\n",
    "  [0, 0]\n",
    "  + [11, 11, 11]\n",
    "  + [12, 12, 12]\n",
    "  + [1, 1, 1, 1, 2, 2, 2, 2, 3, 3, 3, 3, 4, 4, 4, 4, 5, 5, 5, 5, 6, 6, 6, 6]\n",
    "  + [7, 8, 9, 10]\n",
    "    # fmt: on\n",
    ")\n",
    "end_nodes = (\n",
    "    # fmt: off\n",
    "  [11, 12]\n",
    "  + team_a\n",
    "  + team_b\n",
    "  + [7, 8, 9, 10, 7, 8, 9, 10, 7, 8, 9, 10, 7, 8, 9, 10, 7, 8, 9, 10, 7, 8, 9, 10]\n",
    "  + [13, 13, 13, 13]\n",
    "    # fmt: on\n",
    ")\n",
    "capacities = (\n",
    "    # fmt: off\n",
    "  [2, 2]\n",
    "  + [1, 1, 1]\n",
    "  + [1, 1, 1]\n",
    "  + [1, 1, 1, 1, 1, 1, 1, 1, 1, 1, 1, 1, 1, 1, 1, 1, 1, 1, 1, 1, 1, 1, 1, 1]\n",
    "  + [1, 1, 1, 1]\n",
    "    # fmt: on\n",
    ")\n",
    "costs = (\n",
    "    # fmt: off\n",
    "  [0, 0]\n",
    "  + [0, 0, 0]\n",
    "  + [0, 0, 0]\n",
    "  + [90, 76, 75, 70, 35, 85, 55, 65, 125, 95, 90, 105, 45, 110, 95, 115, 60, 105, 80, 75, 45, 65, 110, 95]\n",
    "  + [0, 0, 0, 0]\n",
    "    # fmt: on\n",
    ")\n",
    "\n",
    "source = 0\n",
    "sink = 13\n",
    "tasks = 4\n",
    "# Define an array of supplies at each node.\n",
    "supplies = [tasks, 0, 0, 0, 0, 0, 0, 0, 0, 0, 0, 0, 0, -tasks]"
   ]
  },
  {
   "cell_type": "markdown",
   "id": "a78df273",
   "metadata": {},
   "source": [
    "![FlowCOst](flowcost.png)"
   ]
  },
  {
   "cell_type": "code",
   "execution_count": 7,
   "id": "813b9f4c",
   "metadata": {},
   "outputs": [],
   "source": [
    "# Add each arc.\n",
    "for i in range(0, len(start_nodes)):\n",
    "    smcf.add_arc_with_capacity_and_unit_cost(\n",
    "        start_nodes[i], end_nodes[i], capacities[i], costs[i]\n",
    "    )\n",
    "\n",
    "# Add node supplies.\n",
    "for i in range(0, len(supplies)):\n",
    "    smcf.set_node_supply(i, supplies[i])"
   ]
  },
  {
   "cell_type": "code",
   "execution_count": 8,
   "id": "a4e799d4",
   "metadata": {},
   "outputs": [],
   "source": [
    "# Find the minimum cost flow between node 0 and node 10.\n",
    "status = smcf.solve()"
   ]
  },
  {
   "cell_type": "code",
   "execution_count": 9,
   "id": "e6ee2a0a",
   "metadata": {},
   "outputs": [
    {
     "name": "stdout",
     "output_type": "stream",
     "text": [
      "Total cost =  250\n",
      "\n",
      "Worker 1 assigned to task 9.  Cost = 75\n",
      "Worker 2 assigned to task 7.  Cost = 35\n",
      "Worker 5 assigned to task 10.  Cost = 75\n",
      "Worker 6 assigned to task 8.  Cost = 65\n"
     ]
    }
   ],
   "source": [
    "if status == smcf.OPTIMAL:\n",
    "    print(\"Total cost = \", smcf.optimal_cost())\n",
    "    print()\n",
    "    for arc in range(smcf.num_arcs()):\n",
    "        # Can ignore arcs leading out of source or intermediate, or into sink.\n",
    "        if (\n",
    "            smcf.tail(arc) != source\n",
    "            and smcf.tail(arc) != 11\n",
    "            and smcf.tail(arc) != 12\n",
    "            and smcf.head(arc) != sink\n",
    "        ):\n",
    "\n",
    "            # Arcs in the solution will have a flow value of 1.\n",
    "            # There start and end nodes give an assignment of worker to task.\n",
    "            if smcf.flow(arc) > 0:\n",
    "                print(\n",
    "                    \"Worker %d assigned to task %d.  Cost = %d\"\n",
    "                    % (smcf.tail(arc), smcf.head(arc), smcf.unit_cost(arc))\n",
    "                )\n",
    "else:\n",
    "    print(\"There was an issue with the min cost flow input.\")\n",
    "    print(f\"Status: {status}\")"
   ]
  },
  {
   "cell_type": "code",
   "execution_count": null,
   "id": "01cc9d78",
   "metadata": {},
   "outputs": [],
   "source": []
  }
 ],
 "metadata": {
  "kernelspec": {
   "display_name": "Python 3 (ipykernel)",
   "language": "python",
   "name": "python3"
  },
  "language_info": {
   "codemirror_mode": {
    "name": "ipython",
    "version": 3
   },
   "file_extension": ".py",
   "mimetype": "text/x-python",
   "name": "python",
   "nbconvert_exporter": "python",
   "pygments_lexer": "ipython3",
   "version": "3.11.5"
  }
 },
 "nbformat": 4,
 "nbformat_minor": 5
}
