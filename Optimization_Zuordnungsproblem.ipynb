{
 "cells": [
  {
   "cell_type": "markdown",
   "id": "c93cdc50",
   "metadata": {},
   "source": [
    "Einer Anzahl von n Arbeitern soll die gleiche Anzahl Tätigkeiten bei bekannten (Ausführungs-)Kosten zugeordnet werden, wobei sich die Ausführungskosten von Arbeiter zu Arbeiter und von Aufgabe zu Aufgabe unterscheiden.\n",
    "\n",
    "Jedem Arbeiter wird genau eine Tätigkeit zugeordnet und jede Tätigkeit wird von genau einem Arbeiter ausgeführt.\n",
    "Anschließend wird unter allen zulässigen Plänen der kostenminimale Arbeitsplan gewählt.\n",
    "\n",
    "Angenommen, es gibt 3 Aufgaben und 3 Mitarbeiter, und die Kostenmatrix C zeigt die Zeit, die jeder Mitarbeiter für jede Aufgabe benötigt:\n",
    "\n",
    "Mitarbeiter | Aufgabe 1 (A1) | Aufgabe 2 (A2) | Aufgabe 3 (A3)\n",
    "-------- | -------- | -------- | -------\n",
    "Mitarbeiter 1 (M1)   | 4 Stunden   | 2 Stunden | 5 Stunden\n",
    "Mitarbeiter 2 (M2)   | 3 Stunden   | 6 Stunden | 3 Stunden\n",
    "Mitarbeiter 3 (M3)   | 5 Stunden   | 4 Stunden | 2 Stunden\n",
    "\n",
    "xi,j ist in Boolean und gibt an, ob Aufgabe j an Mitarbeiter i vergeben ist.\n",
    "\n",
    "\n",
    "Minimiere Z = 4 * x11 + 2 * x12 + 5 * x13 + 3 * x21 + 6 * x22 + 3 * x23 + 5 * x31 + 4 * x32 + 2 * x33\n",
    "\n",
    "Jede Aufgabe muss von genau einem Mitarbeiter erledigt werden:\n",
    "x11 + x21 + x31 = 1\n",
    "x12 + x22 + x32 = 1\n",
    "x13 + x23 + x33 = 1\n",
    "\n",
    "Jeder Mitarbeiter darf höchstens eine Aufgabe übernehmen:\n",
    "x11 + x12 + x13 <= 1\n",
    "x21 + x22 + x23 <= 1\n",
    "x31 + x32 + x33 <= 1\n",
    "\n",
    "Alle xi,j müssen entweder 0 oder 1 sein.\n"
   ]
  },
  {
   "cell_type": "code",
   "execution_count": 2,
   "id": "bce90754",
   "metadata": {},
   "outputs": [],
   "source": [
    "from ortools.linear_solver import pywraplp"
   ]
  },
  {
   "cell_type": "code",
   "execution_count": 3,
   "id": "be0c6a13",
   "metadata": {},
   "outputs": [],
   "source": [
    "solver = pywraplp.Solver.CreateSolver('GLOP')"
   ]
  },
  {
   "cell_type": "code",
   "execution_count": 6,
   "id": "3ab747e4",
   "metadata": {},
   "outputs": [],
   "source": [
    "# Define decision variables (x_ij) for assigning tasks to workers.\n",
    "x11 = solver.NumVar(0, 1, 'x11')\n",
    "x12 = solver.NumVar(0, 1, 'x12')\n",
    "x13 = solver.NumVar(0, 1, 'x13')\n",
    "x21 = solver.NumVar(0, 1, 'x21')\n",
    "x22 = solver.NumVar(0, 1, 'x22')\n",
    "x23 = solver.NumVar(0, 1, 'x23')\n",
    "x31 = solver.NumVar(0, 1, 'x31')\n",
    "x32 = solver.NumVar(0, 1, 'x32')\n",
    "x33 = solver.NumVar(0, 1, 'x33')"
   ]
  },
  {
   "cell_type": "code",
   "execution_count": 7,
   "id": "f6cf0ba4",
   "metadata": {},
   "outputs": [],
   "source": [
    " # Objective function: minimize the total cost\n",
    "objective = solver.Objective()\n",
    "objective.SetCoefficient(x11, 4)  # Cost of worker 1 doing task 1\n",
    "objective.SetCoefficient(x12, 2)  # Cost of worker 1 doing task 2\n",
    "objective.SetCoefficient(x13, 5)  # Cost of worker 1 doing task 3\n",
    "objective.SetCoefficient(x21, 3)  # Cost of worker 2 doing task 1\n",
    "objective.SetCoefficient(x22, 6)  # Cost of worker 2 doing task 2\n",
    "objective.SetCoefficient(x23, 3)  # Cost of worker 2 doing task 3\n",
    "objective.SetCoefficient(x31, 5)  # Cost of worker 3 doing task 1\n",
    "objective.SetCoefficient(x32, 4)  # Cost of worker 3 doing task 2\n",
    "objective.SetCoefficient(x33, 2)  # Cost of worker 3 doing task 3\n",
    "objective.SetMinimization()"
   ]
  },
  {
   "cell_type": "code",
   "execution_count": 8,
   "id": "059b9fd9",
   "metadata": {},
   "outputs": [
    {
     "data": {
      "text/plain": [
       "<ortools.linear_solver.pywraplp.Constraint; proxy of <Swig Object of type 'operations_research::MPConstraint *' at 0x00000227918A31E0> >"
      ]
     },
     "execution_count": 8,
     "metadata": {},
     "output_type": "execute_result"
    }
   ],
   "source": [
    " # Constraints: each task must be assigned to exactly one worker\n",
    "solver.Add(x11 + x21 + x31 == 1)  # Task 1 is assigned to exactly one worker\n",
    "solver.Add(x12 + x22 + x32 == 1)  # Task 2 is assigned to exactly one worker\n",
    "solver.Add(x13 + x23 + x33 == 1)  # Task 3 is assigned to exactly one worker\n",
    "\n",
    "# Constraints: each worker can do at most one task\n",
    "solver.Add(x11 + x12 + x13 <= 1)  # Worker 1 does at most one task\n",
    "solver.Add(x21 + x22 + x23 <= 1)  # Worker 2 does at most one task\n",
    "solver.Add(x31 + x32 + x33 <= 1)  # Worker 3 does at most one task"
   ]
  },
  {
   "cell_type": "code",
   "execution_count": 10,
   "id": "b1bbbb76",
   "metadata": {},
   "outputs": [
    {
     "name": "stdout",
     "output_type": "stream",
     "text": [
      "Solution found!\n",
      "x11: 0.0\n",
      "x12: 1.0\n",
      "x13: 0.0\n",
      "x21: 1.0\n",
      "x22: 0.0\n",
      "x23: 0.0\n",
      "x31: 0.0\n",
      "x32: 0.0\n",
      "x33: 1.0\n",
      "Optimal cost: 7.0\n"
     ]
    }
   ],
   "source": [
    "# Solve the problem\n",
    "status = solver.Solve()\n",
    "\n",
    "# Check the result\n",
    "if status == pywraplp.Solver.OPTIMAL:\n",
    "    print('Solution found!')\n",
    "    print(f\"x11: {x11.solution_value()}\")\n",
    "    print(f\"x12: {x12.solution_value()}\")\n",
    "    print(f\"x13: {x13.solution_value()}\")\n",
    "    print(f\"x21: {x21.solution_value()}\")\n",
    "    print(f\"x22: {x22.solution_value()}\")\n",
    "    print(f\"x23: {x23.solution_value()}\")\n",
    "    print(f\"x31: {x31.solution_value()}\")\n",
    "    print(f\"x32: {x32.solution_value()}\")\n",
    "    print(f\"x33: {x33.solution_value()}\")\n",
    "\n",
    "    print('Optimal cost:', solver.Objective().Value())\n",
    "else:\n",
    "    print('No optimal solution found.')"
   ]
  },
  {
   "cell_type": "code",
   "execution_count": null,
   "id": "00f32fe8",
   "metadata": {},
   "outputs": [],
   "source": []
  }
 ],
 "metadata": {
  "kernelspec": {
   "display_name": "Python 3 (ipykernel)",
   "language": "python",
   "name": "python3"
  },
  "language_info": {
   "codemirror_mode": {
    "name": "ipython",
    "version": 3
   },
   "file_extension": ".py",
   "mimetype": "text/x-python",
   "name": "python",
   "nbconvert_exporter": "python",
   "pygments_lexer": "ipython3",
   "version": "3.11.5"
  }
 },
 "nbformat": 4,
 "nbformat_minor": 5
}
